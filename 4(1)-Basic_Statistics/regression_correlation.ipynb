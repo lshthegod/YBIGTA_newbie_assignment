{
 "cells": [
  {
   "cell_type": "code",
   "execution_count": 48,
   "metadata": {},
   "outputs": [],
   "source": [
    "### 필요한 라이브러리 불러오기!\n",
    "\n",
    "import pandas as pd\n",
    "import numpy as np\n",
    "import statsmodels.api as sm"
   ]
  },
  {
   "cell_type": "code",
   "execution_count": 49,
   "metadata": {},
   "outputs": [],
   "source": [
    "### Advertising.csv를 불러와 데이터 로드하기!\n",
    "\n",
    "file_path = \"Advertising.csv\"\n",
    "data = pd.read_csv(file_path)"
   ]
  },
  {
   "cell_type": "code",
   "execution_count": 50,
   "metadata": {},
   "outputs": [],
   "source": [
    "### Predictor Variable과 Response Variable을 설정해주세요!\n",
    "\n",
    "X = data[['TV', 'radio', 'newspaper']]\n",
    "y = data['sales']\n",
    "X = sm.add_constant(X)"
   ]
  },
  {
   "cell_type": "code",
   "execution_count": 51,
   "metadata": {},
   "outputs": [
    {
     "name": "stdout",
     "output_type": "stream",
     "text": [
      "             Coef. Std.Err.      t     P>|t|    [0.025    0.975]\n",
      "const       2.9389   0.3119   9.42  < 0.0001  2.323762  3.554016\n",
      "TV          0.0458   0.0014  32.81  < 0.0001  0.043014  0.048516\n",
      "radio       0.1885   0.0086  21.89  < 0.0001  0.171547  0.205513\n",
      "newspaper  -0.0010   0.0059  -0.18    0.8599 -0.012616  0.010541\n"
     ]
    }
   ],
   "source": [
    "### Multiple Linear Regression을 수행해봅시다!\n",
    "\n",
    "model = sm.OLS(y, X).fit()\n",
    "\n",
    "results_summary = model.summary2().tables[1]\n",
    "results_summary['Coef.'] = results_summary['Coef.'].apply(lambda x: f\"{x:.4f}\")\n",
    "results_summary['Std.Err.'] = results_summary['Std.Err.'].apply(lambda x: f\"{x:.4f}\")\n",
    "results_summary['t'] = results_summary['t'].apply(lambda x: f\"{x:.2f}\")\n",
    "results_summary['P>|t|'] = results_summary['P>|t|'].apply(lambda x: f\"< 0.0001\" if x < 0.0001 else f\"{x:.4f}\")\n",
    "\n",
    "print(results_summary)"
   ]
  },
  {
   "cell_type": "code",
   "execution_count": 52,
   "metadata": {},
   "outputs": [
    {
     "name": "stdout",
     "output_type": "stream",
     "text": [
      "            TV   radio newspaper   sales\n",
      "TV         1.0  0.0548    0.0566  0.7822\n",
      "radio              1.0    0.3541  0.5762\n",
      "newspaper                    1.0  0.2283\n",
      "sales                             1.0000\n"
     ]
    }
   ],
   "source": [
    "### Correlation Matrix를 만들어 출력해주세요!\n",
    "\n",
    "correlation_matrix = data.iloc[:, 1:].corr().round(4)\n",
    "mask = np.tril(np.ones(correlation_matrix.shape), k=-1)\n",
    "correlation_matrix = correlation_matrix.where(mask == 0)\n",
    "correlation_matrix = correlation_matrix.fillna(\"\")\n",
    "print(correlation_matrix)"
   ]
  }
 ],
 "metadata": {
  "kernelspec": {
   "display_name": "Python 3",
   "language": "python",
   "name": "python3"
  },
  "language_info": {
   "codemirror_mode": {
    "name": "ipython",
    "version": 3
   },
   "file_extension": ".py",
   "mimetype": "text/x-python",
   "name": "python",
   "nbconvert_exporter": "python",
   "pygments_lexer": "ipython3",
   "version": "3.11.1"
  }
 },
 "nbformat": 4,
 "nbformat_minor": 2
}
